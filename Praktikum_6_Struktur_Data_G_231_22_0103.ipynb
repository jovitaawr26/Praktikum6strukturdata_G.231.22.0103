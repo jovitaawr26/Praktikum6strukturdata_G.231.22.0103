{
  "nbformat": 4,
  "nbformat_minor": 0,
  "metadata": {
    "colab": {
      "provenance": []
    },
    "kernelspec": {
      "name": "python3",
      "display_name": "Python 3"
    },
    "language_info": {
      "name": "python"
    }
  },
  "cells": [
    {
      "cell_type": "markdown",
      "source": [
        "ANTRIAN"
      ],
      "metadata": {
        "id": "FSWMGi6Pp8WI"
      }
    },
    {
      "cell_type": "code",
      "execution_count": null,
      "metadata": {
        "colab": {
          "base_uri": "https://localhost:8080/"
        },
        "id": "s2vaP7UtnooB",
        "outputId": "4b35a18a-52ae-44e9-b3a3-58b9b3eb3f3d"
      },
      "outputs": [
        {
          "output_type": "stream",
          "name": "stdout",
          "text": [
            "deque(['Ram', 'Tarun', 'Asif', 'John'])\n",
            "deque(['Ram', 'Tarun', 'Asif', 'John', 'Akbar'])\n",
            "deque(['Ram', 'Tarun', 'Asif', 'John', 'Akbar', 'Birbal'])\n",
            "Ram\n",
            "Tarun\n",
            "deque(['Asif', 'John', 'Akbar', 'Birbal'])\n",
            "Pindahkan disk 1 dari A ke C\n",
            "Pindahkan disk 2 dari A ke B\n",
            "Pindahkan disk 1 dari C ke A\n",
            "Pindahkan disk 3 dari A ke C\n",
            "Pindahkan disk 1 dari B ke C\n",
            "Pindahkan disk 2 dari B ke A\n",
            "Pindahkan disk 1 dari C ke B\n"
          ]
        }
      ],
      "source": [
        "from collections import deque\n",
        "queue = deque ([\"Ram\", \"Tarun\", \"Asif\", \"John\"])\n",
        "print(queue)\n",
        "queue.append(\"Akbar\")\n",
        "print(queue)\n",
        "queue.append(\"Birbal\")\n",
        "print(queue)\n",
        "print(queue.popleft())\n",
        "print(queue.popleft())\n",
        "print(queue)\n",
        "\n",
        "def TowerOfHanoi (n, dr, menuju, bantuan):\n",
        "    if n == 0:\n",
        "        return\n",
        "    TowerOfHanoi (n-1, dr, bantuan, menuju)\n",
        "    print(\"Pindahkan disk\", n, \"dari\", dr, \"ke\", menuju)\n",
        "    TowerOfHanoi (n-1, bantuan, dr, menuju)\n",
        "\n",
        "#Driver code\n",
        "N = 3\n",
        "\n",
        "#A, C, B are the name of rods\n",
        "TowerOfHanoi (N, 'A', 'C', 'B')"
      ]
    },
    {
      "cell_type": "markdown",
      "source": [
        "MENGURUTKAN DALAM SEBUAH STACK"
      ],
      "metadata": {
        "id": "tV6tV_cMqHQB"
      }
    },
    {
      "cell_type": "code",
      "source": [
        "def sortStack (input) :\n",
        "    tmpStack = []\n",
        "    while (len(input) > 0) :\n",
        "\n",
        "        #pop out the first element\n",
        "        tmp = input[-1]\n",
        "        input.pop()\n",
        "\n",
        "        while (len(tmpStack) > 0 and tmpStack[-1] < tmp) :\n",
        "\n",
        "             input.append(tmpStack[-1])\n",
        "             tmpStack.pop()\n",
        "\n",
        "        tmpStack.append(tmp)\n",
        "\n",
        "    return tmpStack\n",
        "\n",
        "def sortArrayUsingStacks(arr, n) :\n",
        "    input =[]\n",
        "    i = 0\n",
        "    while ( i < n) :\n",
        "        input.append(arr[i])\n",
        "        i = i + 1\n",
        "\n",
        "    tmpStack = sortStack(input)\n",
        "    i = 0\n",
        "\n",
        "    while (i < n) :\n",
        "        arr[i] = tmpStack[-1]\n",
        "        tmpStack.pop()\n",
        "        i = i + 1\n",
        "        return arr\n",
        "\n",
        "    arr = [10, 5, 15, 45]\n",
        "    n = len(arr)\n",
        "\n",
        "    arr = sortArrayUsingStacks(arr, n)\n",
        "    i = 0\n",
        "\n",
        "    while (i < n) :\n",
        "        print(arr[i], end=\" \")\n",
        "        i = i + 1\n",
        "\n",
        "\n"
      ],
      "metadata": {
        "id": "EhNU8wsdqNYr"
      },
      "execution_count": 1,
      "outputs": []
    },
    {
      "cell_type": "markdown",
      "source": [
        "ALGORITMA:\n",
        "1. Mulai\n",
        "2. Buat tumpukkan sementara 'tmpStack'\n",
        "3. Selama 'input' tidak kosong:\n",
        "    -Ambil elemen pertama dari 'input' dan simpan dalam variabel 'tmp'\n",
        "    -Saat 'tmpStack' tidak kosong dan elemen teratas 'tmpStack' lebih kecil dari 'tmp'\n",
        "        .Mengeluarkan elemen terbaik 'tmpStack' ke 'input'\n",
        "4. Tambahkan 'tmp' ke 'tmpStack'\n",
        "5. Kembalikan 'tmpStack' yang sudah terurut\n",
        "6. Selesai"
      ],
      "metadata": {
        "id": "Uxy8oC4oC45D"
      }
    },
    {
      "cell_type": "markdown",
      "source": [
        "PERBAIKAN"
      ],
      "metadata": {
        "id": "5ill_UmOAkTd"
      }
    },
    {
      "cell_type": "code",
      "source": [
        "def sortArrayUsingStacks(arr, n):\n",
        "    input_stack = []\n",
        "    i = 0\n",
        "    while i < n:\n",
        "        input_stack.append(arr[i])\n",
        "        i = i + 1\n",
        "\n",
        "    tmp_stack = sortStack(input_stack)\n",
        "    i = 0\n",
        "\n",
        "    while i < n:\n",
        "        arr[i] = tmp_stack[-1]\n",
        "        tmp_stack.pop()\n",
        "        i = i + 1\n",
        "\n",
        "    return arr\n",
        "\n",
        "arr = [10, 5, 15, 45]\n",
        "n = len(arr)\n",
        "\n",
        "arr = sortArrayUsingStacks(arr, n)\n",
        "i = 0\n",
        "\n",
        "while i < n:\n",
        "    print(arr[i], end=\" \")\n",
        "    i = i + 1\n"
      ],
      "metadata": {
        "colab": {
          "base_uri": "https://localhost:8080/"
        },
        "id": "R2jjjW1WAcYy",
        "outputId": "307ec511-18ff-4543-8e3a-b241247a302c"
      },
      "execution_count": 3,
      "outputs": [
        {
          "output_type": "stream",
          "name": "stdout",
          "text": [
            "5 10 15 45 "
          ]
        }
      ]
    },
    {
      "cell_type": "markdown",
      "source": [
        "ALGORITMA\n",
        "1. Mulai\n",
        "2. Buat tumpukan kosong bernama 'input'\n",
        "3. Salin elemen-elemen dari 'arr' ke dalam 'input'\n",
        "4. Panggil fungsi 'sortStack(input) untuk menggurutkan 'input' menggunakan stack\n",
        "5. Salain kembali elemen-elemen yang telah diurutkan dari 'tmpStack' ke 'arr'\n",
        "6. Kembalikan 'arr'\n",
        "7. Selesai"
      ],
      "metadata": {
        "id": "HGFDmZPqCEfi"
      }
    }
  ]
}